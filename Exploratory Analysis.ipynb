{
 "cells": [
  {
   "cell_type": "code",
   "execution_count": 1,
   "id": "acec203a",
   "metadata": {},
   "outputs": [],
   "source": [
    "import numpy as np\n",
    "import pandas as pd"
   ]
  },
  {
   "cell_type": "code",
   "execution_count": 2,
   "id": "84f3aa20",
   "metadata": {},
   "outputs": [],
   "source": [
    "df = pd.read_csv(\"data/cats_data.csv\")"
   ]
  },
  {
   "cell_type": "code",
   "execution_count": 3,
   "id": "6d7ee39c",
   "metadata": {},
   "outputs": [
    {
     "data": {
      "text/html": [
       "<div>\n",
       "<style scoped>\n",
       "    .dataframe tbody tr th:only-of-type {\n",
       "        vertical-align: middle;\n",
       "    }\n",
       "\n",
       "    .dataframe tbody tr th {\n",
       "        vertical-align: top;\n",
       "    }\n",
       "\n",
       "    .dataframe thead th {\n",
       "        text-align: right;\n",
       "    }\n",
       "</style>\n",
       "<table border=\"1\" class=\"dataframe\">\n",
       "  <thead>\n",
       "    <tr style=\"text-align: right;\">\n",
       "      <th></th>\n",
       "      <th>Unnamed: 0</th>\n",
       "      <th>id</th>\n",
       "      <th>url</th>\n",
       "      <th>type</th>\n",
       "      <th>age</th>\n",
       "      <th>gender</th>\n",
       "      <th>size</th>\n",
       "      <th>coat</th>\n",
       "      <th>breed</th>\n",
       "      <th>photos</th>\n",
       "      <th>med_photos</th>\n",
       "    </tr>\n",
       "  </thead>\n",
       "  <tbody>\n",
       "    <tr>\n",
       "      <th>0</th>\n",
       "      <td>0</td>\n",
       "      <td>46744842</td>\n",
       "      <td>https://www.petfinder.com/cat/arianna-46744842...</td>\n",
       "      <td>Cat</td>\n",
       "      <td>Adult</td>\n",
       "      <td>Female</td>\n",
       "      <td>Medium</td>\n",
       "      <td>NaN</td>\n",
       "      <td>Abyssinian</td>\n",
       "      <td>[{'small': 'https://dl5zpyw5k3jeb.cloudfront.n...</td>\n",
       "      <td>['https://dl5zpyw5k3jeb.cloudfront.net/photos/...</td>\n",
       "    </tr>\n",
       "    <tr>\n",
       "      <th>1</th>\n",
       "      <td>1</td>\n",
       "      <td>46717321</td>\n",
       "      <td>https://www.petfinder.com/cat/ozzy-46717321/oh...</td>\n",
       "      <td>Cat</td>\n",
       "      <td>Adult</td>\n",
       "      <td>Male</td>\n",
       "      <td>Extra Large</td>\n",
       "      <td>NaN</td>\n",
       "      <td>Abyssinian</td>\n",
       "      <td>[{'small': 'https://dl5zpyw5k3jeb.cloudfront.n...</td>\n",
       "      <td>['https://dl5zpyw5k3jeb.cloudfront.net/photos/...</td>\n",
       "    </tr>\n",
       "    <tr>\n",
       "      <th>2</th>\n",
       "      <td>2</td>\n",
       "      <td>46626338</td>\n",
       "      <td>https://www.petfinder.com/cat/zena-46626338/ca...</td>\n",
       "      <td>Cat</td>\n",
       "      <td>Senior</td>\n",
       "      <td>Female</td>\n",
       "      <td>Medium</td>\n",
       "      <td>NaN</td>\n",
       "      <td>Abyssinian</td>\n",
       "      <td>[{'small': 'https://dl5zpyw5k3jeb.cloudfront.n...</td>\n",
       "      <td>['https://dl5zpyw5k3jeb.cloudfront.net/photos/...</td>\n",
       "    </tr>\n",
       "    <tr>\n",
       "      <th>3</th>\n",
       "      <td>3</td>\n",
       "      <td>46620170</td>\n",
       "      <td>https://www.petfinder.com/cat/mika-46620170/ca...</td>\n",
       "      <td>Cat</td>\n",
       "      <td>Baby</td>\n",
       "      <td>Female</td>\n",
       "      <td>Small</td>\n",
       "      <td>Short</td>\n",
       "      <td>Abyssinian</td>\n",
       "      <td>[{'small': 'https://dl5zpyw5k3jeb.cloudfront.n...</td>\n",
       "      <td>['https://dl5zpyw5k3jeb.cloudfront.net/photos/...</td>\n",
       "    </tr>\n",
       "    <tr>\n",
       "      <th>4</th>\n",
       "      <td>4</td>\n",
       "      <td>46582751</td>\n",
       "      <td>https://www.petfinder.com/cat/ruby-46582751/fl...</td>\n",
       "      <td>Cat</td>\n",
       "      <td>Young</td>\n",
       "      <td>Female</td>\n",
       "      <td>Medium</td>\n",
       "      <td>NaN</td>\n",
       "      <td>Abyssinian</td>\n",
       "      <td>[{'small': 'https://dl5zpyw5k3jeb.cloudfront.n...</td>\n",
       "      <td>['https://dl5zpyw5k3jeb.cloudfront.net/photos/...</td>\n",
       "    </tr>\n",
       "  </tbody>\n",
       "</table>\n",
       "</div>"
      ],
      "text/plain": [
       "   Unnamed: 0        id                                                url  \\\n",
       "0           0  46744842  https://www.petfinder.com/cat/arianna-46744842...   \n",
       "1           1  46717321  https://www.petfinder.com/cat/ozzy-46717321/oh...   \n",
       "2           2  46626338  https://www.petfinder.com/cat/zena-46626338/ca...   \n",
       "3           3  46620170  https://www.petfinder.com/cat/mika-46620170/ca...   \n",
       "4           4  46582751  https://www.petfinder.com/cat/ruby-46582751/fl...   \n",
       "\n",
       "  type     age  gender         size   coat       breed  \\\n",
       "0  Cat   Adult  Female       Medium    NaN  Abyssinian   \n",
       "1  Cat   Adult    Male  Extra Large    NaN  Abyssinian   \n",
       "2  Cat  Senior  Female       Medium    NaN  Abyssinian   \n",
       "3  Cat    Baby  Female        Small  Short  Abyssinian   \n",
       "4  Cat   Young  Female       Medium    NaN  Abyssinian   \n",
       "\n",
       "                                              photos  \\\n",
       "0  [{'small': 'https://dl5zpyw5k3jeb.cloudfront.n...   \n",
       "1  [{'small': 'https://dl5zpyw5k3jeb.cloudfront.n...   \n",
       "2  [{'small': 'https://dl5zpyw5k3jeb.cloudfront.n...   \n",
       "3  [{'small': 'https://dl5zpyw5k3jeb.cloudfront.n...   \n",
       "4  [{'small': 'https://dl5zpyw5k3jeb.cloudfront.n...   \n",
       "\n",
       "                                          med_photos  \n",
       "0  ['https://dl5zpyw5k3jeb.cloudfront.net/photos/...  \n",
       "1  ['https://dl5zpyw5k3jeb.cloudfront.net/photos/...  \n",
       "2  ['https://dl5zpyw5k3jeb.cloudfront.net/photos/...  \n",
       "3  ['https://dl5zpyw5k3jeb.cloudfront.net/photos/...  \n",
       "4  ['https://dl5zpyw5k3jeb.cloudfront.net/photos/...  "
      ]
     },
     "execution_count": 3,
     "metadata": {},
     "output_type": "execute_result"
    }
   ],
   "source": [
    "df.head()"
   ]
  },
  {
   "cell_type": "code",
   "execution_count": 8,
   "id": "e1bef535",
   "metadata": {},
   "outputs": [
    {
     "data": {
      "text/plain": [
       "(67145, 11)"
      ]
     },
     "execution_count": 8,
     "metadata": {},
     "output_type": "execute_result"
    }
   ],
   "source": [
    "df.shape"
   ]
  },
  {
   "cell_type": "code",
   "execution_count": 4,
   "id": "78fa4888",
   "metadata": {},
   "outputs": [
    {
     "data": {
      "text/plain": [
       "0"
      ]
     },
     "execution_count": 4,
     "metadata": {},
     "output_type": "execute_result"
    }
   ],
   "source": [
    "df.duplicated().sum()"
   ]
  },
  {
   "cell_type": "code",
   "execution_count": 7,
   "id": "5e5bc54e",
   "metadata": {},
   "outputs": [
    {
     "data": {
      "text/plain": [
       "Unnamed: 0        0\n",
       "id                0\n",
       "url               0\n",
       "type              0\n",
       "age               0\n",
       "gender            0\n",
       "size              0\n",
       "coat          25133\n",
       "breed             0\n",
       "photos            0\n",
       "med_photos        0\n",
       "dtype: int64"
      ]
     },
     "execution_count": 7,
     "metadata": {},
     "output_type": "execute_result"
    }
   ],
   "source": [
    "df.isnull().sum()"
   ]
  },
  {
   "cell_type": "code",
   "execution_count": null,
   "id": "b8f64150",
   "metadata": {},
   "outputs": [],
   "source": []
  }
 ],
 "metadata": {
  "kernelspec": {
   "display_name": "Python 3 (ipykernel)",
   "language": "python",
   "name": "python3"
  },
  "language_info": {
   "codemirror_mode": {
    "name": "ipython",
    "version": 3
   },
   "file_extension": ".py",
   "mimetype": "text/x-python",
   "name": "python",
   "nbconvert_exporter": "python",
   "pygments_lexer": "ipython3",
   "version": "3.10.1"
  }
 },
 "nbformat": 4,
 "nbformat_minor": 5
}
