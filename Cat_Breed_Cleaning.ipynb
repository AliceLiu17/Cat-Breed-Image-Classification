{
  "nbformat": 4,
  "nbformat_minor": 0,
  "metadata": {
    "colab": {
      "provenance": [],
      "collapsed_sections": []
    },
    "kernelspec": {
      "name": "python3",
      "display_name": "Python 3"
    },
    "language_info": {
      "name": "python"
    }
  },
  "cells": [
    {
      "cell_type": "code",
      "execution_count": 1,
      "metadata": {
        "id": "sNpYdHfuqz3y"
      },
      "outputs": [],
      "source": [
        "import pandas as pd\n",
        "import numpy as np\n",
        "import tensorflow as tf\n",
        "from tensorflow import keras\n",
        "from tensorflow.keras import layers\n",
        "import json\n",
        "import ast\n",
        "\n",
        "from sklearn.svm import SVC\n",
        "from skimage import io\n",
        "from skimage.color import rgb2gray\n",
        "\n",
        "# For plotting\n",
        "import matplotlib.pyplot as plt\n",
        "%matplotlib inline \n",
        "\n",
        "# to convert the pixels:\n",
        "from google.colab.patches import cv2_imshow\n",
        "import cv2"
      ]
    },
    {
      "cell_type": "code",
      "source": [
        "cat_breed_url = \"https://raw.githubusercontent.com/AliceLiu17/Cat-Breed-Image-Classification/main/data/cats_data.csv\"\n",
        "df = pd.read_csv(cat_breed_url)\n",
        "df.head()"
      ],
      "metadata": {
        "colab": {
          "base_uri": "https://localhost:8080/",
          "height": 374
        },
        "id": "zumZG5IGrkjJ",
        "outputId": "ad671e54-2719-4fff-9b56-92c1b89e1625"
      },
      "execution_count": 2,
      "outputs": [
        {
          "output_type": "execute_result",
          "data": {
            "text/plain": [
              "   Unnamed: 0        id                                                url  \\\n",
              "0           0  46744842  https://www.petfinder.com/cat/arianna-46744842...   \n",
              "1           1  46717321  https://www.petfinder.com/cat/ozzy-46717321/oh...   \n",
              "2           2  46626338  https://www.petfinder.com/cat/zena-46626338/ca...   \n",
              "3           3  46620170  https://www.petfinder.com/cat/mika-46620170/ca...   \n",
              "4           4  46582751  https://www.petfinder.com/cat/ruby-46582751/fl...   \n",
              "\n",
              "  type     age  gender         size   coat       breed  \\\n",
              "0  Cat   Adult  Female       Medium    NaN  Abyssinian   \n",
              "1  Cat   Adult    Male  Extra Large    NaN  Abyssinian   \n",
              "2  Cat  Senior  Female       Medium    NaN  Abyssinian   \n",
              "3  Cat    Baby  Female        Small  Short  Abyssinian   \n",
              "4  Cat   Young  Female       Medium    NaN  Abyssinian   \n",
              "\n",
              "                                              photos  \\\n",
              "0  [{'small': 'https://dl5zpyw5k3jeb.cloudfront.n...   \n",
              "1  [{'small': 'https://dl5zpyw5k3jeb.cloudfront.n...   \n",
              "2  [{'small': 'https://dl5zpyw5k3jeb.cloudfront.n...   \n",
              "3  [{'small': 'https://dl5zpyw5k3jeb.cloudfront.n...   \n",
              "4  [{'small': 'https://dl5zpyw5k3jeb.cloudfront.n...   \n",
              "\n",
              "                                          med_photos  \n",
              "0  ['https://dl5zpyw5k3jeb.cloudfront.net/photos/...  \n",
              "1  ['https://dl5zpyw5k3jeb.cloudfront.net/photos/...  \n",
              "2  ['https://dl5zpyw5k3jeb.cloudfront.net/photos/...  \n",
              "3  ['https://dl5zpyw5k3jeb.cloudfront.net/photos/...  \n",
              "4  ['https://dl5zpyw5k3jeb.cloudfront.net/photos/...  "
            ],
            "text/html": [
              "\n",
              "  <div id=\"df-fab826aa-3e8d-433b-b65b-4e902cb96b8a\">\n",
              "    <div class=\"colab-df-container\">\n",
              "      <div>\n",
              "<style scoped>\n",
              "    .dataframe tbody tr th:only-of-type {\n",
              "        vertical-align: middle;\n",
              "    }\n",
              "\n",
              "    .dataframe tbody tr th {\n",
              "        vertical-align: top;\n",
              "    }\n",
              "\n",
              "    .dataframe thead th {\n",
              "        text-align: right;\n",
              "    }\n",
              "</style>\n",
              "<table border=\"1\" class=\"dataframe\">\n",
              "  <thead>\n",
              "    <tr style=\"text-align: right;\">\n",
              "      <th></th>\n",
              "      <th>Unnamed: 0</th>\n",
              "      <th>id</th>\n",
              "      <th>url</th>\n",
              "      <th>type</th>\n",
              "      <th>age</th>\n",
              "      <th>gender</th>\n",
              "      <th>size</th>\n",
              "      <th>coat</th>\n",
              "      <th>breed</th>\n",
              "      <th>photos</th>\n",
              "      <th>med_photos</th>\n",
              "    </tr>\n",
              "  </thead>\n",
              "  <tbody>\n",
              "    <tr>\n",
              "      <th>0</th>\n",
              "      <td>0</td>\n",
              "      <td>46744842</td>\n",
              "      <td>https://www.petfinder.com/cat/arianna-46744842...</td>\n",
              "      <td>Cat</td>\n",
              "      <td>Adult</td>\n",
              "      <td>Female</td>\n",
              "      <td>Medium</td>\n",
              "      <td>NaN</td>\n",
              "      <td>Abyssinian</td>\n",
              "      <td>[{'small': 'https://dl5zpyw5k3jeb.cloudfront.n...</td>\n",
              "      <td>['https://dl5zpyw5k3jeb.cloudfront.net/photos/...</td>\n",
              "    </tr>\n",
              "    <tr>\n",
              "      <th>1</th>\n",
              "      <td>1</td>\n",
              "      <td>46717321</td>\n",
              "      <td>https://www.petfinder.com/cat/ozzy-46717321/oh...</td>\n",
              "      <td>Cat</td>\n",
              "      <td>Adult</td>\n",
              "      <td>Male</td>\n",
              "      <td>Extra Large</td>\n",
              "      <td>NaN</td>\n",
              "      <td>Abyssinian</td>\n",
              "      <td>[{'small': 'https://dl5zpyw5k3jeb.cloudfront.n...</td>\n",
              "      <td>['https://dl5zpyw5k3jeb.cloudfront.net/photos/...</td>\n",
              "    </tr>\n",
              "    <tr>\n",
              "      <th>2</th>\n",
              "      <td>2</td>\n",
              "      <td>46626338</td>\n",
              "      <td>https://www.petfinder.com/cat/zena-46626338/ca...</td>\n",
              "      <td>Cat</td>\n",
              "      <td>Senior</td>\n",
              "      <td>Female</td>\n",
              "      <td>Medium</td>\n",
              "      <td>NaN</td>\n",
              "      <td>Abyssinian</td>\n",
              "      <td>[{'small': 'https://dl5zpyw5k3jeb.cloudfront.n...</td>\n",
              "      <td>['https://dl5zpyw5k3jeb.cloudfront.net/photos/...</td>\n",
              "    </tr>\n",
              "    <tr>\n",
              "      <th>3</th>\n",
              "      <td>3</td>\n",
              "      <td>46620170</td>\n",
              "      <td>https://www.petfinder.com/cat/mika-46620170/ca...</td>\n",
              "      <td>Cat</td>\n",
              "      <td>Baby</td>\n",
              "      <td>Female</td>\n",
              "      <td>Small</td>\n",
              "      <td>Short</td>\n",
              "      <td>Abyssinian</td>\n",
              "      <td>[{'small': 'https://dl5zpyw5k3jeb.cloudfront.n...</td>\n",
              "      <td>['https://dl5zpyw5k3jeb.cloudfront.net/photos/...</td>\n",
              "    </tr>\n",
              "    <tr>\n",
              "      <th>4</th>\n",
              "      <td>4</td>\n",
              "      <td>46582751</td>\n",
              "      <td>https://www.petfinder.com/cat/ruby-46582751/fl...</td>\n",
              "      <td>Cat</td>\n",
              "      <td>Young</td>\n",
              "      <td>Female</td>\n",
              "      <td>Medium</td>\n",
              "      <td>NaN</td>\n",
              "      <td>Abyssinian</td>\n",
              "      <td>[{'small': 'https://dl5zpyw5k3jeb.cloudfront.n...</td>\n",
              "      <td>['https://dl5zpyw5k3jeb.cloudfront.net/photos/...</td>\n",
              "    </tr>\n",
              "  </tbody>\n",
              "</table>\n",
              "</div>\n",
              "      <button class=\"colab-df-convert\" onclick=\"convertToInteractive('df-fab826aa-3e8d-433b-b65b-4e902cb96b8a')\"\n",
              "              title=\"Convert this dataframe to an interactive table.\"\n",
              "              style=\"display:none;\">\n",
              "        \n",
              "  <svg xmlns=\"http://www.w3.org/2000/svg\" height=\"24px\"viewBox=\"0 0 24 24\"\n",
              "       width=\"24px\">\n",
              "    <path d=\"M0 0h24v24H0V0z\" fill=\"none\"/>\n",
              "    <path d=\"M18.56 5.44l.94 2.06.94-2.06 2.06-.94-2.06-.94-.94-2.06-.94 2.06-2.06.94zm-11 1L8.5 8.5l.94-2.06 2.06-.94-2.06-.94L8.5 2.5l-.94 2.06-2.06.94zm10 10l.94 2.06.94-2.06 2.06-.94-2.06-.94-.94-2.06-.94 2.06-2.06.94z\"/><path d=\"M17.41 7.96l-1.37-1.37c-.4-.4-.92-.59-1.43-.59-.52 0-1.04.2-1.43.59L10.3 9.45l-7.72 7.72c-.78.78-.78 2.05 0 2.83L4 21.41c.39.39.9.59 1.41.59.51 0 1.02-.2 1.41-.59l7.78-7.78 2.81-2.81c.8-.78.8-2.07 0-2.86zM5.41 20L4 18.59l7.72-7.72 1.47 1.35L5.41 20z\"/>\n",
              "  </svg>\n",
              "      </button>\n",
              "      \n",
              "  <style>\n",
              "    .colab-df-container {\n",
              "      display:flex;\n",
              "      flex-wrap:wrap;\n",
              "      gap: 12px;\n",
              "    }\n",
              "\n",
              "    .colab-df-convert {\n",
              "      background-color: #E8F0FE;\n",
              "      border: none;\n",
              "      border-radius: 50%;\n",
              "      cursor: pointer;\n",
              "      display: none;\n",
              "      fill: #1967D2;\n",
              "      height: 32px;\n",
              "      padding: 0 0 0 0;\n",
              "      width: 32px;\n",
              "    }\n",
              "\n",
              "    .colab-df-convert:hover {\n",
              "      background-color: #E2EBFA;\n",
              "      box-shadow: 0px 1px 2px rgba(60, 64, 67, 0.3), 0px 1px 3px 1px rgba(60, 64, 67, 0.15);\n",
              "      fill: #174EA6;\n",
              "    }\n",
              "\n",
              "    [theme=dark] .colab-df-convert {\n",
              "      background-color: #3B4455;\n",
              "      fill: #D2E3FC;\n",
              "    }\n",
              "\n",
              "    [theme=dark] .colab-df-convert:hover {\n",
              "      background-color: #434B5C;\n",
              "      box-shadow: 0px 1px 3px 1px rgba(0, 0, 0, 0.15);\n",
              "      filter: drop-shadow(0px 1px 2px rgba(0, 0, 0, 0.3));\n",
              "      fill: #FFFFFF;\n",
              "    }\n",
              "  </style>\n",
              "\n",
              "      <script>\n",
              "        const buttonEl =\n",
              "          document.querySelector('#df-fab826aa-3e8d-433b-b65b-4e902cb96b8a button.colab-df-convert');\n",
              "        buttonEl.style.display =\n",
              "          google.colab.kernel.accessAllowed ? 'block' : 'none';\n",
              "\n",
              "        async function convertToInteractive(key) {\n",
              "          const element = document.querySelector('#df-fab826aa-3e8d-433b-b65b-4e902cb96b8a');\n",
              "          const dataTable =\n",
              "            await google.colab.kernel.invokeFunction('convertToInteractive',\n",
              "                                                     [key], {});\n",
              "          if (!dataTable) return;\n",
              "\n",
              "          const docLinkHtml = 'Like what you see? Visit the ' +\n",
              "            '<a target=\"_blank\" href=https://colab.research.google.com/notebooks/data_table.ipynb>data table notebook</a>'\n",
              "            + ' to learn more about interactive tables.';\n",
              "          element.innerHTML = '';\n",
              "          dataTable['output_type'] = 'display_data';\n",
              "          await google.colab.output.renderOutput(dataTable, element);\n",
              "          const docLink = document.createElement('div');\n",
              "          docLink.innerHTML = docLinkHtml;\n",
              "          element.appendChild(docLink);\n",
              "        }\n",
              "      </script>\n",
              "    </div>\n",
              "  </div>\n",
              "  "
            ]
          },
          "metadata": {},
          "execution_count": 2
        }
      ]
    },
    {
      "cell_type": "code",
      "source": [
        "! pip install jsbeautifier"
      ],
      "metadata": {
        "colab": {
          "base_uri": "https://localhost:8080/"
        },
        "id": "ZcwcOIjs8Cjg",
        "outputId": "158d80be-d013-4fd5-ceb0-5a36e1c6555a"
      },
      "execution_count": 3,
      "outputs": [
        {
          "output_type": "stream",
          "name": "stdout",
          "text": [
            "Looking in indexes: https://pypi.org/simple, https://us-python.pkg.dev/colab-wheels/public/simple/\n",
            "Collecting jsbeautifier\n",
            "  Downloading jsbeautifier-1.14.7.tar.gz (74 kB)\n",
            "\u001b[K     |████████████████████████████████| 74 kB 1.9 MB/s \n",
            "\u001b[?25h  Installing build dependencies ... \u001b[?25l\u001b[?25hdone\n",
            "  Getting requirements to build wheel ... \u001b[?25l\u001b[?25hdone\n",
            "    Preparing wheel metadata ... \u001b[?25l\u001b[?25hdone\n",
            "Requirement already satisfied: six>=1.13.0 in /usr/local/lib/python3.7/dist-packages (from jsbeautifier) (1.15.0)\n",
            "Collecting editorconfig>=0.12.2\n",
            "  Downloading EditorConfig-0.12.3-py3-none-any.whl (16 kB)\n",
            "Building wheels for collected packages: jsbeautifier\n",
            "  Building wheel for jsbeautifier (PEP 517) ... \u001b[?25l\u001b[?25hdone\n",
            "  Created wheel for jsbeautifier: filename=jsbeautifier-1.14.7-py3-none-any.whl size=93578 sha256=d620a1bb72aa6433034523125fea2fedb8e048c5f313bda5dda1ab4e1f44a8d1\n",
            "  Stored in directory: /root/.cache/pip/wheels/cb/34/4f/52898647909379a8ca3011e23388f3666795d8f851597320ea\n",
            "Successfully built jsbeautifier\n",
            "Installing collected packages: editorconfig, jsbeautifier\n",
            "Successfully installed editorconfig-0.12.3 jsbeautifier-1.14.7\n"
          ]
        }
      ]
    },
    {
      "cell_type": "code",
      "source": [
        "def strip_json_image_link(input_string, size_you_want='small'):\n",
        "  the_json = ast.literal_eval(input_string)[0]\n",
        "  link = the_json[size_you_want]\n",
        "  return(link)\n",
        "\n",
        "\n",
        "df['link'] = df[\"photos\"].apply(strip_json_image_link)\n",
        "df.head()"
      ],
      "metadata": {
        "colab": {
          "base_uri": "https://localhost:8080/",
          "height": 374
        },
        "id": "x-rYyps_rs9G",
        "outputId": "058d2d87-0adb-4d1d-84eb-cc99452e9921"
      },
      "execution_count": 4,
      "outputs": [
        {
          "output_type": "execute_result",
          "data": {
            "text/plain": [
              "   Unnamed: 0        id                                                url  \\\n",
              "0           0  46744842  https://www.petfinder.com/cat/arianna-46744842...   \n",
              "1           1  46717321  https://www.petfinder.com/cat/ozzy-46717321/oh...   \n",
              "2           2  46626338  https://www.petfinder.com/cat/zena-46626338/ca...   \n",
              "3           3  46620170  https://www.petfinder.com/cat/mika-46620170/ca...   \n",
              "4           4  46582751  https://www.petfinder.com/cat/ruby-46582751/fl...   \n",
              "\n",
              "  type     age  gender         size   coat       breed  \\\n",
              "0  Cat   Adult  Female       Medium    NaN  Abyssinian   \n",
              "1  Cat   Adult    Male  Extra Large    NaN  Abyssinian   \n",
              "2  Cat  Senior  Female       Medium    NaN  Abyssinian   \n",
              "3  Cat    Baby  Female        Small  Short  Abyssinian   \n",
              "4  Cat   Young  Female       Medium    NaN  Abyssinian   \n",
              "\n",
              "                                              photos  \\\n",
              "0  [{'small': 'https://dl5zpyw5k3jeb.cloudfront.n...   \n",
              "1  [{'small': 'https://dl5zpyw5k3jeb.cloudfront.n...   \n",
              "2  [{'small': 'https://dl5zpyw5k3jeb.cloudfront.n...   \n",
              "3  [{'small': 'https://dl5zpyw5k3jeb.cloudfront.n...   \n",
              "4  [{'small': 'https://dl5zpyw5k3jeb.cloudfront.n...   \n",
              "\n",
              "                                          med_photos  \\\n",
              "0  ['https://dl5zpyw5k3jeb.cloudfront.net/photos/...   \n",
              "1  ['https://dl5zpyw5k3jeb.cloudfront.net/photos/...   \n",
              "2  ['https://dl5zpyw5k3jeb.cloudfront.net/photos/...   \n",
              "3  ['https://dl5zpyw5k3jeb.cloudfront.net/photos/...   \n",
              "4  ['https://dl5zpyw5k3jeb.cloudfront.net/photos/...   \n",
              "\n",
              "                                                link  \n",
              "0  https://dl5zpyw5k3jeb.cloudfront.net/photos/pe...  \n",
              "1  https://dl5zpyw5k3jeb.cloudfront.net/photos/pe...  \n",
              "2  https://dl5zpyw5k3jeb.cloudfront.net/photos/pe...  \n",
              "3  https://dl5zpyw5k3jeb.cloudfront.net/photos/pe...  \n",
              "4  https://dl5zpyw5k3jeb.cloudfront.net/photos/pe...  "
            ],
            "text/html": [
              "\n",
              "  <div id=\"df-da3904cd-ecf6-42ea-875f-64adda3cce31\">\n",
              "    <div class=\"colab-df-container\">\n",
              "      <div>\n",
              "<style scoped>\n",
              "    .dataframe tbody tr th:only-of-type {\n",
              "        vertical-align: middle;\n",
              "    }\n",
              "\n",
              "    .dataframe tbody tr th {\n",
              "        vertical-align: top;\n",
              "    }\n",
              "\n",
              "    .dataframe thead th {\n",
              "        text-align: right;\n",
              "    }\n",
              "</style>\n",
              "<table border=\"1\" class=\"dataframe\">\n",
              "  <thead>\n",
              "    <tr style=\"text-align: right;\">\n",
              "      <th></th>\n",
              "      <th>Unnamed: 0</th>\n",
              "      <th>id</th>\n",
              "      <th>url</th>\n",
              "      <th>type</th>\n",
              "      <th>age</th>\n",
              "      <th>gender</th>\n",
              "      <th>size</th>\n",
              "      <th>coat</th>\n",
              "      <th>breed</th>\n",
              "      <th>photos</th>\n",
              "      <th>med_photos</th>\n",
              "      <th>link</th>\n",
              "    </tr>\n",
              "  </thead>\n",
              "  <tbody>\n",
              "    <tr>\n",
              "      <th>0</th>\n",
              "      <td>0</td>\n",
              "      <td>46744842</td>\n",
              "      <td>https://www.petfinder.com/cat/arianna-46744842...</td>\n",
              "      <td>Cat</td>\n",
              "      <td>Adult</td>\n",
              "      <td>Female</td>\n",
              "      <td>Medium</td>\n",
              "      <td>NaN</td>\n",
              "      <td>Abyssinian</td>\n",
              "      <td>[{'small': 'https://dl5zpyw5k3jeb.cloudfront.n...</td>\n",
              "      <td>['https://dl5zpyw5k3jeb.cloudfront.net/photos/...</td>\n",
              "      <td>https://dl5zpyw5k3jeb.cloudfront.net/photos/pe...</td>\n",
              "    </tr>\n",
              "    <tr>\n",
              "      <th>1</th>\n",
              "      <td>1</td>\n",
              "      <td>46717321</td>\n",
              "      <td>https://www.petfinder.com/cat/ozzy-46717321/oh...</td>\n",
              "      <td>Cat</td>\n",
              "      <td>Adult</td>\n",
              "      <td>Male</td>\n",
              "      <td>Extra Large</td>\n",
              "      <td>NaN</td>\n",
              "      <td>Abyssinian</td>\n",
              "      <td>[{'small': 'https://dl5zpyw5k3jeb.cloudfront.n...</td>\n",
              "      <td>['https://dl5zpyw5k3jeb.cloudfront.net/photos/...</td>\n",
              "      <td>https://dl5zpyw5k3jeb.cloudfront.net/photos/pe...</td>\n",
              "    </tr>\n",
              "    <tr>\n",
              "      <th>2</th>\n",
              "      <td>2</td>\n",
              "      <td>46626338</td>\n",
              "      <td>https://www.petfinder.com/cat/zena-46626338/ca...</td>\n",
              "      <td>Cat</td>\n",
              "      <td>Senior</td>\n",
              "      <td>Female</td>\n",
              "      <td>Medium</td>\n",
              "      <td>NaN</td>\n",
              "      <td>Abyssinian</td>\n",
              "      <td>[{'small': 'https://dl5zpyw5k3jeb.cloudfront.n...</td>\n",
              "      <td>['https://dl5zpyw5k3jeb.cloudfront.net/photos/...</td>\n",
              "      <td>https://dl5zpyw5k3jeb.cloudfront.net/photos/pe...</td>\n",
              "    </tr>\n",
              "    <tr>\n",
              "      <th>3</th>\n",
              "      <td>3</td>\n",
              "      <td>46620170</td>\n",
              "      <td>https://www.petfinder.com/cat/mika-46620170/ca...</td>\n",
              "      <td>Cat</td>\n",
              "      <td>Baby</td>\n",
              "      <td>Female</td>\n",
              "      <td>Small</td>\n",
              "      <td>Short</td>\n",
              "      <td>Abyssinian</td>\n",
              "      <td>[{'small': 'https://dl5zpyw5k3jeb.cloudfront.n...</td>\n",
              "      <td>['https://dl5zpyw5k3jeb.cloudfront.net/photos/...</td>\n",
              "      <td>https://dl5zpyw5k3jeb.cloudfront.net/photos/pe...</td>\n",
              "    </tr>\n",
              "    <tr>\n",
              "      <th>4</th>\n",
              "      <td>4</td>\n",
              "      <td>46582751</td>\n",
              "      <td>https://www.petfinder.com/cat/ruby-46582751/fl...</td>\n",
              "      <td>Cat</td>\n",
              "      <td>Young</td>\n",
              "      <td>Female</td>\n",
              "      <td>Medium</td>\n",
              "      <td>NaN</td>\n",
              "      <td>Abyssinian</td>\n",
              "      <td>[{'small': 'https://dl5zpyw5k3jeb.cloudfront.n...</td>\n",
              "      <td>['https://dl5zpyw5k3jeb.cloudfront.net/photos/...</td>\n",
              "      <td>https://dl5zpyw5k3jeb.cloudfront.net/photos/pe...</td>\n",
              "    </tr>\n",
              "  </tbody>\n",
              "</table>\n",
              "</div>\n",
              "      <button class=\"colab-df-convert\" onclick=\"convertToInteractive('df-da3904cd-ecf6-42ea-875f-64adda3cce31')\"\n",
              "              title=\"Convert this dataframe to an interactive table.\"\n",
              "              style=\"display:none;\">\n",
              "        \n",
              "  <svg xmlns=\"http://www.w3.org/2000/svg\" height=\"24px\"viewBox=\"0 0 24 24\"\n",
              "       width=\"24px\">\n",
              "    <path d=\"M0 0h24v24H0V0z\" fill=\"none\"/>\n",
              "    <path d=\"M18.56 5.44l.94 2.06.94-2.06 2.06-.94-2.06-.94-.94-2.06-.94 2.06-2.06.94zm-11 1L8.5 8.5l.94-2.06 2.06-.94-2.06-.94L8.5 2.5l-.94 2.06-2.06.94zm10 10l.94 2.06.94-2.06 2.06-.94-2.06-.94-.94-2.06-.94 2.06-2.06.94z\"/><path d=\"M17.41 7.96l-1.37-1.37c-.4-.4-.92-.59-1.43-.59-.52 0-1.04.2-1.43.59L10.3 9.45l-7.72 7.72c-.78.78-.78 2.05 0 2.83L4 21.41c.39.39.9.59 1.41.59.51 0 1.02-.2 1.41-.59l7.78-7.78 2.81-2.81c.8-.78.8-2.07 0-2.86zM5.41 20L4 18.59l7.72-7.72 1.47 1.35L5.41 20z\"/>\n",
              "  </svg>\n",
              "      </button>\n",
              "      \n",
              "  <style>\n",
              "    .colab-df-container {\n",
              "      display:flex;\n",
              "      flex-wrap:wrap;\n",
              "      gap: 12px;\n",
              "    }\n",
              "\n",
              "    .colab-df-convert {\n",
              "      background-color: #E8F0FE;\n",
              "      border: none;\n",
              "      border-radius: 50%;\n",
              "      cursor: pointer;\n",
              "      display: none;\n",
              "      fill: #1967D2;\n",
              "      height: 32px;\n",
              "      padding: 0 0 0 0;\n",
              "      width: 32px;\n",
              "    }\n",
              "\n",
              "    .colab-df-convert:hover {\n",
              "      background-color: #E2EBFA;\n",
              "      box-shadow: 0px 1px 2px rgba(60, 64, 67, 0.3), 0px 1px 3px 1px rgba(60, 64, 67, 0.15);\n",
              "      fill: #174EA6;\n",
              "    }\n",
              "\n",
              "    [theme=dark] .colab-df-convert {\n",
              "      background-color: #3B4455;\n",
              "      fill: #D2E3FC;\n",
              "    }\n",
              "\n",
              "    [theme=dark] .colab-df-convert:hover {\n",
              "      background-color: #434B5C;\n",
              "      box-shadow: 0px 1px 3px 1px rgba(0, 0, 0, 0.15);\n",
              "      filter: drop-shadow(0px 1px 2px rgba(0, 0, 0, 0.3));\n",
              "      fill: #FFFFFF;\n",
              "    }\n",
              "  </style>\n",
              "\n",
              "      <script>\n",
              "        const buttonEl =\n",
              "          document.querySelector('#df-da3904cd-ecf6-42ea-875f-64adda3cce31 button.colab-df-convert');\n",
              "        buttonEl.style.display =\n",
              "          google.colab.kernel.accessAllowed ? 'block' : 'none';\n",
              "\n",
              "        async function convertToInteractive(key) {\n",
              "          const element = document.querySelector('#df-da3904cd-ecf6-42ea-875f-64adda3cce31');\n",
              "          const dataTable =\n",
              "            await google.colab.kernel.invokeFunction('convertToInteractive',\n",
              "                                                     [key], {});\n",
              "          if (!dataTable) return;\n",
              "\n",
              "          const docLinkHtml = 'Like what you see? Visit the ' +\n",
              "            '<a target=\"_blank\" href=https://colab.research.google.com/notebooks/data_table.ipynb>data table notebook</a>'\n",
              "            + ' to learn more about interactive tables.';\n",
              "          element.innerHTML = '';\n",
              "          dataTable['output_type'] = 'display_data';\n",
              "          await google.colab.output.renderOutput(dataTable, element);\n",
              "          const docLink = document.createElement('div');\n",
              "          docLink.innerHTML = docLinkHtml;\n",
              "          element.appendChild(docLink);\n",
              "        }\n",
              "      </script>\n",
              "    </div>\n",
              "  </div>\n",
              "  "
            ]
          },
          "metadata": {},
          "execution_count": 4
        }
      ]
    },
    {
      "cell_type": "code",
      "source": [
        "df[\"link\"].iloc[0]"
      ],
      "metadata": {
        "colab": {
          "base_uri": "https://localhost:8080/",
          "height": 35
        },
        "id": "2hRcFmhycKHw",
        "outputId": "e4c31a89-43cc-466b-baa1-102ba67858cb"
      },
      "execution_count": 5,
      "outputs": [
        {
          "output_type": "execute_result",
          "data": {
            "text/plain": [
              "'https://dl5zpyw5k3jeb.cloudfront.net/photos/pets/46744842/1/?bust=1575403984&width=100'"
            ],
            "application/vnd.google.colaboratory.intrinsic+json": {
              "type": "string"
            }
          },
          "metadata": {},
          "execution_count": 5
        }
      ]
    },
    {
      "cell_type": "code",
      "source": [
        "# convert the dataframe into a list\n",
        "link_list = df[\"link\"].values.tolist()"
      ],
      "metadata": {
        "id": "fanxvTdVoLzC"
      },
      "execution_count": 9,
      "outputs": []
    },
    {
      "cell_type": "code",
      "source": [
        "def a_function(input_url):\n",
        "  try:\n",
        "    resp = urllib.request.urlopen(input_url)\n",
        "    print(\"this worked:\", input_url)\n",
        "  except:\n",
        "    print(\"this is bad url and above code didn't work:\", input_url)\n",
        "    resp = None\n",
        "  return resp\n",
        "\n",
        "a_function(\"https://www.google.com\")\n",
        "a_function(\"www.akjsdfasd;lfjasdfjkl.com\")"
      ],
      "metadata": {
        "colab": {
          "base_uri": "https://localhost:8080/"
        },
        "id": "L17Sk_gPMtrz",
        "outputId": "7fa7b22e-95ab-4bcf-e9df-6d20e2f13990"
      },
      "execution_count": 10,
      "outputs": [
        {
          "output_type": "stream",
          "name": "stdout",
          "text": [
            "this worked: https://www.google.com\n",
            "this is bad url and above code didn't work: www.akjsdfasd;lfjasdfjkl.com\n"
          ]
        }
      ]
    },
    {
      "cell_type": "markdown",
      "source": [
        "for url in link_list:\n",
        "  a_function(url)"
      ],
      "metadata": {
        "id": "qeG6BJjOPVq0"
      }
    },
    {
      "cell_type": "code",
      "source": [
        "df.shape"
      ],
      "metadata": {
        "colab": {
          "base_uri": "https://localhost:8080/"
        },
        "id": "VlI0u01ZkyCw",
        "outputId": "b2486697-92e8-42ea-d9fe-299e11906a37"
      },
      "execution_count": 12,
      "outputs": [
        {
          "output_type": "execute_result",
          "data": {
            "text/plain": [
              "(67145, 12)"
            ]
          },
          "metadata": {},
          "execution_count": 12
        }
      ]
    },
    {
      "cell_type": "code",
      "source": [
        "df.drop(df[df['link'] == 'https://dl5zpyw5k3jeb.cloudfront.net/photos/pets/41384239/1/?bust=1523505638&width=100'].index, inplace=True)\n",
        "df.drop(df[df['link'] == 'https://dl5zpyw5k3jeb.cloudfront.net/photos/pets/20935636/1/?bust=1445973066&width=100'].index, inplace=True)\n",
        "df.drop(df[df['link'] == 'https://dl5zpyw5k3jeb.cloudfront.net/photos/pets/45999734/1/?bust=1573780012&width=100'].index, inplace=True)\n",
        "df.drop(df[df['link'] == 'https://dl5zpyw5k3jeb.cloudfront.net/photos/pets/44643500/1/?bust=1557326883&width=100'].index, inplace=True)\n",
        "df.drop(df[df['link'] == 'https://dl5zpyw5k3jeb.cloudfront.net/photos/pets/44284574/1/?bust=1553187658&width=100'].index, inplace=True)\n",
        "df.drop(df[df['link'] == 'https://dl5zpyw5k3jeb.cloudfront.net/photos/pets/44228106/1/?bust=1552567088&width=100'].index, inplace=True)\n",
        "df.drop(df[df['link'] == 'https://dl5zpyw5k3jeb.cloudfront.net/photos/pets/44038298/1/?bust=1550413571&width=100'].index, inplace=True)\n",
        "df.drop(df[df['link'] == 'https://dl5zpyw5k3jeb.cloudfront.net/photos/pets/42664207/2/?bust=1536820105&width=100'].index, inplace=True)\n",
        "df.drop(df[df['link'] == 'https://dl5zpyw5k3jeb.cloudfront.net/photos/pets/46559328/1/?bust=1573615912&width=100'].index, inplace=True)\n",
        "df.drop(df[df['link'] == 'https://dl5zpyw5k3jeb.cloudfront.net/photos/pets/46590712/1/?bust=1573862304&width=100'].index, inplace=True)\n",
        "df.drop(df[df['link'] == 'https://dl5zpyw5k3jeb.cloudfront.net/photos/pets/46494368/1/?bust=1573060470&width=100'].index, inplace=True)\n",
        "df.drop(df[df['link'] == 'https://dl5zpyw5k3jeb.cloudfront.net/photos/pets/46003926/1/?bust=1573173138&width=100'].index, inplace=True)\n",
        "df.drop(df[df['link'] == 'https://dl5zpyw5k3jeb.cloudfront.net/photos/pets/46003701/1/?bust=1570026695&width=100'].index, inplace=True)\n",
        "df.drop(df[df['link'] == 'https://dl5zpyw5k3jeb.cloudfront.net/photos/pets/46002084/1/?bust=1572566857&width=100'].index, inplace=True)\n",
        "df.drop(df[df['link'] == 'https://dl5zpyw5k3jeb.cloudfront.net/photos/pets/45609859/6/?bust=1565793008&width=100'].index, inplace=True)\n",
        "df.drop(df[df['link'] == 'https://dl5zpyw5k3jeb.cloudfront.net/photos/pets/45173058/5/?bust=1562944195&width=100'].index, inplace=True)\n",
        "df.drop(df[df['link'] == 'https://dl5zpyw5k3jeb.cloudfront.net/photos/pets/43629146/4/?bust=1545882011&width=100'].index, inplace=True)\n",
        "df.drop(df[df['link'] == 'https://dl5zpyw5k3jeb.cloudfront.net/photos/pets/44467139/1/?bust=1574769924&width=100'].index, inplace=True)\n",
        "df.drop(df[df['link'] == 'https://dl5zpyw5k3jeb.cloudfront.net/photos/pets/29872984/4/?bust=1563675170&width=100'].index, inplace=True)\n",
        "df.drop(df[df['link'] == 'https://dl5zpyw5k3jeb.cloudfront.net/photos/pets/46671890/1/?bust=1575447604&width=100'].index, inplace=True)\n",
        "df.drop(df[df['link'] == 'https://dl5zpyw5k3jeb.cloudfront.net/photos/pets/46531959/6/?bust=1574554884&width=100'].index, inplace=True)\n",
        "df.drop(df[df['link'] == 'https://dl5zpyw5k3jeb.cloudfront.net/photos/pets/46746860/1/?bust=1575413469&width=100'].index, inplace=True)\n",
        "df.drop(df[df['link'] == 'https://dl5zpyw5k3jeb.cloudfront.net/photos/pets/46744633/1/?bust=1575402279&width=100'].index, inplace=True)\n",
        "df.drop(df[df['link'] == 'https://dl5zpyw5k3jeb.cloudfront.net/photos/pets/25183447/1/?bust=1358868481&width=100'].index, inplace=True)\n",
        "df.drop(df[df['link'] == 'https://dl5zpyw5k3jeb.cloudfront.net/photos/pets/35183025/1/?bust=1463945914&width=100'].index, inplace=True)\n",
        "df.drop(df[df['link'] == 'https://dl5zpyw5k3jeb.cloudfront.net/photos/pets/34815717/1/?bust=1459689563&width=100'].index, inplace=True)\n",
        "df.drop(df[df['link'] == 'https://dl5zpyw5k3jeb.cloudfront.net/photos/pets/20418641/1/?bust=1311856578&width=100'].index, inplace=True)\n",
        "df.drop(df[df['link'] == 'https://dl5zpyw5k3jeb.cloudfront.net/photos/pets/20418611/1/?bust=1311856578&width=100'].index, inplace=True)\n",
        "df.drop(df[df['link'] == 'https://dl5zpyw5k3jeb.cloudfront.net/photos/pets/44840019/1/?bust=1559304081&width=100'].index, inplace=True)\n",
        "df.drop(df[df['link'] == 'https://dl5zpyw5k3jeb.cloudfront.net/photos/pets/46601479/1/?bust=1573962718&width=100'].index, inplace=True)\n",
        "df.drop(df[df['link'] == 'https://dl5zpyw5k3jeb.cloudfront.net/photos/pets/46329795/1/?bust=1573200593&width=100'].index, inplace=True)\n",
        "df.drop(df[df['link'] == 'https://dl5zpyw5k3jeb.cloudfront.net/photos/pets/45777764/4/?bust=1574426954&width=100'].index, inplace=True)\n",
        "df.drop(df[df['link'] == 'https://dl5zpyw5k3jeb.cloudfront.net/photos/pets/46705875/3/?bust=1575340717&width=100'].index, inplace=True)\n",
        "df.drop(df[df['link'] == 'https://dl5zpyw5k3jeb.cloudfront.net/photos/pets/46700115/2/?bust=1574874506&width=100'].index, inplace=True)\n",
        "df.drop(df[df['link'] == 'https://dl5zpyw5k3jeb.cloudfront.net/photos/pets/46497049/1/?bust=1573072114&width=100'].index, inplace=True)\n",
        "df.drop(df[df['link'] == 'https://dl5zpyw5k3jeb.cloudfront.net/photos/pets/45309355/3/?bust=1563558548&width=100'].index, inplace=True)\n",
        "df.drop(df[df['link'] == 'https://dl5zpyw5k3jeb.cloudfront.net/photos/pets/46652656/4/?bust=1575342099&width=100'].index, inplace=True)\n",
        "df.drop(df[df['link'] == 'https://dl5zpyw5k3jeb.cloudfront.net/photos/pets/45322069/5/?bust=1564259655&width=100'].index, inplace=True)\n",
        "df.drop(df[df['link'] == 'https://dl5zpyw5k3jeb.cloudfront.net/photos/pets/44384207/1/?bust=1554381199&width=100'].index, inplace=True)\n"
      ],
      "metadata": {
        "id": "S-Ma_Tcvy9pX"
      },
      "execution_count": 13,
      "outputs": []
    },
    {
      "cell_type": "code",
      "source": [
        "df.shape"
      ],
      "metadata": {
        "colab": {
          "base_uri": "https://localhost:8080/"
        },
        "id": "m6nh3Ywyk7kI",
        "outputId": "79ed3a4f-cf66-4d81-a22e-0d85d0960e1f"
      },
      "execution_count": 14,
      "outputs": [
        {
          "output_type": "execute_result",
          "data": {
            "text/plain": [
              "(67106, 12)"
            ]
          },
          "metadata": {},
          "execution_count": 14
        }
      ]
    },
    {
      "cell_type": "markdown",
      "source": [
        "### Convert in CSV"
      ],
      "metadata": {
        "id": "aXF08k83vtXD"
      }
    },
    {
      "cell_type": "code",
      "source": [
        "from google.colab import files\n",
        "df.to_csv('cat_clean.csv')\n",
        "files.download(\"cat_clean.csv\")"
      ],
      "metadata": {
        "id": "vfsBZIxwvonc"
      },
      "execution_count": null,
      "outputs": []
    },
    {
      "cell_type": "markdown",
      "source": [
        "### DIRTY STUFF DOWN THERE--IGNORE"
      ],
      "metadata": {
        "id": "rQOfz11d3Y1o"
      }
    },
    {
      "cell_type": "code",
      "source": [
        "### Finding bad URL\n",
        "\n",
        "# def find_bad_link(url):\n",
        "#   try:\n",
        "#     resp = urllib.request.urlopen(url)\n",
        "#     image = np.asarray(bytearray(resp.read()), dtype = \"uint8\")\n",
        "#     image = cv2.imdecode(image, cv2.IMREAD_COLOR)\n",
        "#   except:\n",
        "#     print(url, '= THIS IS A BAD URL')\n",
        "#     image = None\n",
        "#   return image"
      ],
      "metadata": {
        "id": "tWmzCwKbkq2X"
      },
      "execution_count": null,
      "outputs": []
    },
    {
      "cell_type": "code",
      "source": [
        "# iterate through the list and feed it into the function\n",
        "# x = []\n",
        "# for url in link_list:\n",
        "#   x.append(url_to_array(url))\n",
        "\n",
        "# df_array = pd.DataFrame({'link_array':x})\n",
        "# df_array.head()"
      ],
      "metadata": {
        "id": "BKD8vD2RmGNl"
      },
      "execution_count": 11,
      "outputs": []
    },
    {
      "cell_type": "code",
      "source": [
        "# # convert the dataframe into a list\n",
        "# link_list = df[\"link\"].values.tolist()\n",
        "# label_list = df['breed'].values.tolist()\n",
        "\n",
        "\n",
        "# # just get 10 to see if new function works\n",
        "# link_list_test = link_list[:1000]\n",
        "# label_list_test = label_list[:1000]"
      ],
      "metadata": {
        "id": "k7-m2kFTkq0G"
      },
      "execution_count": null,
      "outputs": []
    },
    {
      "cell_type": "code",
      "source": [
        "# # iterate through the list and feed it into the function\n",
        "# x = []\n",
        "# for label, url in zip(label_list_test, link_list_test):\n",
        "#   pixel_array = url_to_array(url)\n",
        "#   x.append( [pixel_array, label] )\n",
        "\n",
        "# df_array = pd.DataFrame(x)\n",
        "# df_array.columns = ['image_array', 'label']\n",
        "\n",
        "# print(df_array.shape)\n",
        "# df_array = df_array.dropna()\n",
        "# print(df_array.shape)\n",
        "\n",
        "# df_array.head()"
      ],
      "metadata": {
        "id": "emV8vbaskqxl"
      },
      "execution_count": null,
      "outputs": []
    },
    {
      "cell_type": "code",
      "source": [
        "# df[\"link\"] = df[\"link\"].apply(find_bad_link)"
      ],
      "metadata": {
        "id": "Wu5MnYa2kqsS"
      },
      "execution_count": null,
      "outputs": []
    },
    {
      "cell_type": "code",
      "source": [
        "# df['link'] = df['link'].apply(url_to_array)"
      ],
      "metadata": {
        "id": "QpQ2VJ7vlich"
      },
      "execution_count": null,
      "outputs": []
    }
  ]
}